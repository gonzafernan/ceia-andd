{
 "cells": [
  {
   "cell_type": "markdown",
   "metadata": {},
   "source": [
    "# Lego Database\n",
    "Preguntas a responder:\n",
    "- ¿Cómo evolucionaron los sets de lego en tamaño a través de los años?\n",
    "- ¿Existe alguna asociación entre los colores y las temáticas?\n",
    "- ¿Podría predecir a que temática pertenece un set basado en el\n",
    "contenido de este?\n",
    "- A través de los años, ¿Cuál o cuáles son los sets que tienen las piezas más\n",
    "raras?\n",
    "- ¿Cómo evolucionaron los colores en los sets de lego a través de los\n",
    "años?\n",
    "\n",
    "Dataset schema:\n",
    "\n",
    "![dataset-schema](./imgs/downloads_schema.png)"
   ]
  },
  {
   "cell_type": "code",
   "execution_count": 4,
   "metadata": {},
   "outputs": [],
   "source": [
    "# Dependencies\n",
    "import pandas as pd\n",
    "import seaborn as sns\n",
    "\n",
    "# Global vars\n",
    "DATSET_PATH = \"./data/\""
   ]
  },
  {
   "cell_type": "markdown",
   "metadata": {},
   "source": [
    "## Exploración y comprensión de los datos:\n",
    "- Cargar el dataset proporcionado y realizar un análisis exploratorio de los datos."
   ]
  },
  {
   "cell_type": "code",
   "execution_count": null,
   "metadata": {},
   "outputs": [],
   "source": [
    "inventory_sets_df = pd.read_csv(DATSET_PATH + \"inventory_sets.csv\")\n",
    "print(\"Amount of entries in inventory sets:\", len(inventory_sets_df))\n",
    "inventory_sets_df.head()"
   ]
  },
  {
   "cell_type": "code",
   "execution_count": null,
   "metadata": {},
   "outputs": [],
   "source": [
    "inventory_parts_df = pd.read_csv(DATSET_PATH + \"inventory_parts.csv\")\n",
    "print(\"Amount of entries in inventory parts:\", len(inventory_parts_df))\n",
    "inventory_parts_df.head()"
   ]
  },
  {
   "cell_type": "code",
   "execution_count": null,
   "metadata": {},
   "outputs": [],
   "source": [
    "inventories_df = pd.read_csv(DATSET_PATH + \"inventories.csv\")\n",
    "print(\"Amount of entries in inventories:\", len(inventories_df))\n",
    "inventories_df.head()"
   ]
  },
  {
   "cell_type": "code",
   "execution_count": null,
   "metadata": {},
   "outputs": [],
   "source": [
    "colors_df = pd.read_csv(DATSET_PATH + \"colors.csv\")\n",
    "print(\"Amount of entries in colors:\", len(colors_df))\n",
    "colors_df.head()"
   ]
  },
  {
   "cell_type": "code",
   "execution_count": null,
   "metadata": {},
   "outputs": [],
   "source": [
    "part_categories_df = pd.read_csv(DATSET_PATH + \"part_categories.csv\")\n",
    "print(\"Amount of entries in part categories:\", len(part_categories_df))\n",
    "part_categories_df.head()"
   ]
  },
  {
   "cell_type": "code",
   "execution_count": null,
   "metadata": {},
   "outputs": [],
   "source": [
    "parts_df = pd.read_csv(DATSET_PATH + \"parts.csv\")\n",
    "print(\"Amount of entries in parts:\", len(parts_df))\n",
    "parts_df.head()"
   ]
  },
  {
   "cell_type": "code",
   "execution_count": null,
   "metadata": {},
   "outputs": [],
   "source": [
    "sets_df = pd.read_csv(DATSET_PATH + \"sets.csv\")\n",
    "print(\"Amount of entries in sets:\", len(sets_df))\n",
    "sets_df.head()"
   ]
  },
  {
   "cell_type": "code",
   "execution_count": null,
   "metadata": {},
   "outputs": [],
   "source": [
    "themes_df = pd.read_csv(DATSET_PATH + \"themes.csv\")\n",
    "print(\"Amount of entries in themes:\", len(themes_df))\n",
    "themes_df.head()"
   ]
  }
 ],
 "metadata": {
  "kernelspec": {
   "display_name": ".venv",
   "language": "python",
   "name": "python3"
  },
  "language_info": {
   "codemirror_mode": {
    "name": "ipython",
    "version": 3
   },
   "file_extension": ".py",
   "mimetype": "text/x-python",
   "name": "python",
   "nbconvert_exporter": "python",
   "pygments_lexer": "ipython3",
   "version": "3.12.3"
  }
 },
 "nbformat": 4,
 "nbformat_minor": 2
}
